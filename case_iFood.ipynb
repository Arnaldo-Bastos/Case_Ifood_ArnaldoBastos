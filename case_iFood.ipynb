{
  "cells": [
    {
      "cell_type": "markdown",
      "metadata": {
        "id": "xN3Ny8oYxIko"
      },
      "source": [
        "###Importação dos Pacotes"
      ]
    },
    {
      "cell_type": "code",
      "execution_count": 19,
      "metadata": {
        "id": "AbBsvnhLxG_-"
      },
      "outputs": [],
      "source": [
        "from pyspark.sql import SparkSession, Window\n",
        "from pyspark.sql import functions as F\n",
        "from pyspark.sql import DataFrame\n",
        "from pyspark.sql.types import ArrayType, StructType, StructField, StringType, DoubleType, IntegerType\n",
        "from functools import reduce\n",
        "import os\n",
        "import urllib.request\n",
        "import requests\n",
        "import gzip\n",
        "import tarfile\n",
        "import shutil\n",
        "import pandas as pd\n",
        "import json\n",
        "import matplotlib.pyplot as plt\n",
        "from scipy.stats import ttest_ind, chi2_contingency"
      ]
    },
    {
      "cell_type": "markdown",
      "metadata": {
        "id": "VbwUxxlZ-Bug"
      },
      "source": [
        "###Inicializa a sessão Spark"
      ]
    },
    {
      "cell_type": "code",
      "execution_count": 20,
      "metadata": {
        "id": "fg3c8wTYyanJ"
      },
      "outputs": [],
      "source": [
        "spark = SparkSession.builder \\\n",
        "    .appName(\"iFood AB Data Load\") \\\n",
        "    .getOrCreate()\n",
        "\n",
        "# Diretório temporário para armazenar os dados\n",
        "os.makedirs(\"dados\", exist_ok=True)"
      ]
    },
    {
      "cell_type": "markdown",
      "metadata": {
        "id": "An47BLaq-9pK"
      },
      "source": [
        "###Extração das Bases de Dados"
      ]
    },
    {
      "cell_type": "markdown",
      "metadata": {
        "id": "PIkElcCL5gv_"
      },
      "source": [
        "Criando uma função para fazer o download das bases de dados e descompactá-las"
      ]
    },
    {
      "cell_type": "code",
      "execution_count": 21,
      "metadata": {
        "id": "76dcWoInyiLi"
      },
      "outputs": [],
      "source": [
        "def baixar_arquivo(url, caminho_destino):\n",
        "    if not os.path.exists(caminho_destino):\n",
        "        print(f\"Baixando {url.split('/')[-1]} ...\")\n",
        "        urllib.request.urlretrieve(url, caminho_destino)\n",
        "    else:\n",
        "        print(f\"{caminho_destino} já existe. Pulando download.\")"
      ]
    },
    {
      "cell_type": "code",
      "source": [
        "# 1. Orders (JSON.GZ)\n",
        "orders_url = \"https://data-architect-test-source.s3-sa-east-1.amazonaws.com/order.json.gz\"\n",
        "orders_gz = \"dados/order.json.gz\"\n",
        "orders_json = \"dados/order.json\"\n",
        "baixar_arquivo(orders_url, orders_gz)\n",
        "if not os.path.exists(orders_json):\n",
        "    with gzip.open(orders_gz, 'rb') as f_in, open(orders_json, 'wb') as f_out:\n",
        "        shutil.copyfileobj(f_in, f_out)\n",
        "df_orders = spark.read.json(orders_json)\n",
        "print(f\"df_orders: {df_orders.count()} linhas, {len(df_orders.columns)} colunas\")\n",
        "\n",
        "# 2. Customers (CSV.GZ)\n",
        "customers_url = \"https://data-architect-test-source.s3-sa-east-1.amazonaws.com/consumer.csv.gz\"\n",
        "customers_gz = \"dados/consumer.csv.gz\"\n",
        "customers_csv = \"dados/consumer.csv\"\n",
        "baixar_arquivo(customers_url, customers_gz)\n",
        "if not os.path.exists(customers_csv):\n",
        "    with gzip.open(customers_gz, 'rb') as f_in, open(customers_csv, 'wb') as f_out:\n",
        "        shutil.copyfileobj(f_in, f_out)\n",
        "df_customers = spark.read.csv(customers_csv, header=True, inferSchema=True)\n",
        "print(f\"df_customers: {df_customers.count()} linhas, {len(df_customers.columns)} colunas\")\n",
        "\n",
        "# 3. Merchants (CSV.GZ)\n",
        "merchants_url = \"https://data-architect-test-source.s3-sa-east-1.amazonaws.com/restaurant.csv.gz\"\n",
        "merchants_gz = \"dados/restaurant.csv.gz\"\n",
        "merchants_csv = \"dados/restaurant.csv\"\n",
        "baixar_arquivo(merchants_url, merchants_gz)\n",
        "if not os.path.exists(merchants_csv):\n",
        "    with gzip.open(merchants_gz, 'rb') as f_in, open(merchants_csv, 'wb') as f_out:\n",
        "        shutil.copyfileobj(f_in, f_out)\n",
        "df_merchants = spark.read.csv(merchants_csv, header=True, inferSchema=True)\n",
        "print(f\"df_merchants: {df_merchants.count()} linhas, {len(df_merchants.columns)} colunas\")\n",
        "\n",
        "# 4. Test_AB (TAR.GZ com CSV dentro)\n",
        "test_ab_url = \"https://data-architect-test-source.s3-sa-east-1.amazonaws.com/ab_test_ref.tar.gz\"\n",
        "test_ab_tar = \"dados/ab_test_ref.tar.gz\"\n",
        "baixar_arquivo(test_ab_url, test_ab_tar)\n",
        "with tarfile.open(test_ab_tar, \"r:gz\") as tar:\n",
        "    tar.extractall(path=\"dados\")\n",
        "\n",
        "# Busca recursiva por CSV extraído\n",
        "test_ab_csv = None\n",
        "for root, dirs, files in os.walk(\"dados\"):\n",
        "    for file in files:\n",
        "        if file.endswith(\".csv\") and file.startswith(\"ab_test_ref\"):\n",
        "            test_ab_csv = os.path.join(root, file)\n",
        "            break\n",
        "    if test_ab_csv:\n",
        "        break\n",
        "if not test_ab_csv:\n",
        "    raise FileNotFoundError(\"Arquivo ab_test_ref.csv não encontrado após a extração do TAR.GZ.\")\n",
        "df_test_ab = spark.read.csv(test_ab_csv, header=True, inferSchema=True)\n",
        "print(f\"df_test_ab: {df_test_ab.count()} linhas, {len(df_test_ab.columns)} colunas\")"
      ],
      "metadata": {
        "colab": {
          "base_uri": "https://localhost:8080/"
        },
        "id": "BGDg556H4TYZ",
        "outputId": "10379d1f-ec56-4c80-bb9c-92203d03068e"
      },
      "execution_count": 22,
      "outputs": [
        {
          "output_type": "stream",
          "name": "stdout",
          "text": [
            "dados/order.json.gz já existe. Pulando download.\n",
            "df_orders: 3670826 linhas, 22 colunas\n",
            "dados/consumer.csv.gz já existe. Pulando download.\n",
            "df_customers: 806156 linhas, 7 colunas\n",
            "dados/restaurant.csv.gz já existe. Pulando download.\n",
            "df_merchants: 7292 linhas, 12 colunas\n",
            "dados/ab_test_ref.tar.gz já existe. Pulando download.\n",
            "df_test_ab: 806467 linhas, 2 colunas\n"
          ]
        }
      ]
    },
    {
      "cell_type": "markdown",
      "metadata": {
        "id": "kiqEvaQI9nir"
      },
      "source": [
        "Base: **Pedidos**"
      ]
    },
    {
      "cell_type": "code",
      "execution_count": 23,
      "metadata": {
        "id": "a6Y5hb9ZDVbX",
        "colab": {
          "base_uri": "https://localhost:8080/"
        },
        "outputId": "e01bfa70-8b9e-4319-a0e8-bb82ea3158ac"
      },
      "outputs": [
        {
          "output_type": "stream",
          "name": "stdout",
          "text": [
            "+-----------+--------------------+-------------+---------------------+------------------------+-------------------------+----------------------------+-------------------------+--------------------------+----------------------+-------------------------+--------------------+--------------------+-----------------+------------------+-----------------+--------------------+--------------------+---------------+--------------------+------------------+---------------+\n",
            "|        cpf|         customer_id|customer_name|delivery_address_city|delivery_address_country|delivery_address_district|delivery_address_external_id|delivery_address_latitude|delivery_address_longitude|delivery_address_state|delivery_address_zip_code|               items|         merchant_id|merchant_latitude|merchant_longitude|merchant_timezone|    order_created_at|            order_id|order_scheduled|order_scheduled_date|order_total_amount|origin_platform|\n",
            "+-----------+--------------------+-------------+---------------------+------------------------+-------------------------+----------------------------+-------------------------+--------------------------+----------------------+-------------------------+--------------------+--------------------+-----------------+------------------+-----------------+--------------------+--------------------+---------------+--------------------+------------------+---------------+\n",
            "|80532101763|7ba88a68bb2a3504c...|      GUSTAVO|               FRANCA|                      BR|         JARDIM ESPRAIADO|                     6736655|                   -47.39|                    -20.55|                    SP|                    14403|[{\"name\": \"Parmeg...|a992a079a651e699d...|           -47.39|            -20.55|America/Sao_Paulo|2019-01-17T22:50:...|33e0612d62e5eb42a...|          false|                NULL|              46.0|        ANDROID|\n",
            "|43352103961|078acecdcf7fa89d3...|     MICHELLE|               SANTOS|                      BR|             CAMPO GRANDE|                     8759216|                   -46.34|                    -23.96|                    SP|                    11070|[{\"name\": \"Filé M...|5152f28ee0518b880...|           -46.34|            -23.96|America/Sao_Paulo|2019-01-17T17:51:...|148c4353a2952f3fe...|          false|                NULL|             104.5|        ANDROID|\n",
            "|38650991217|0e38a3237b5946e8a...|       VICTOR|            GUARULHOS|                      BR|             JARDIM ROSSI|                     8765930|                   -46.53|                    -23.44|                    SP|                    71304|[{\"name\": \"GRANDE...|b6096419455c35d06...|           -46.53|            -23.44|America/Sao_Paulo|2019-01-17T22:53:...|c37e495a91b498bb7...|          false|                NULL|              35.0|            IOS|\n",
            "|63579726866|cab1a004b7206d079...|        ANNIE|            SAO PAULO|                      BR|         PARQUE SAO JORGE|                     7834087|                   -46.57|                    -23.53|                    SP|                    30870|[{\"name\": \"CALABR...|082bfdcdf6ccdc343...|           -46.57|            -23.53|America/Sao_Paulo|2019-01-17T23:56:...|b4df94142d2135461...|          false|                NULL|              40.8|            IOS|\n",
            "|90617788806|aa7edf5b166b8c843...|       DANIEL|              VITORIA|                      BR|           JARDIM CAMBURI|                     7211683|                   -40.27|                    -20.25|                    ES|                    29090|[{\"name\": \"GRANDE...|d7adb764bac29ccb7...|           -40.27|            -20.25|America/Sao_Paulo|2019-01-17T23:40:...|4ff64b33b272c1886...|          false|                NULL|              48.5|        ANDROID|\n",
            "|49736666572|ad7ddcda2f5700317...|        ANDRE|            SAO PAULO|                      BR|          JARDIM PAULISTA|                     1989863|                   -46.66|                    -23.57|                    SP|                    14280|[{\"name\": \"GRANDE...|c5c5fc3985020b3f6...|           -46.66|            -23.57|America/Sao_Paulo|2019-01-17T23:54:...|84a9eff359a75fcd3...|          false|                NULL|              84.0|            IOS|\n",
            "|75685211474|f8946264bb2f7344b...|    PRISCILLA|       RIO DE JANEIRO|                      BR|                MADUREIRA|                     4021471|                   -43.33|                    -22.86|                    RJ|                    21360|[{\"name\": \"Açaí\",...|125d56923af93676b...|           -43.33|            -22.86|America/Sao_Paulo|2019-01-17T21:47:...|8ed9e75f134692b4d...|          false|                NULL|              16.0|        ANDROID|\n",
            "|23526017552|77d523d52fd20598b...|        BRUNO|            SAO PAULO|                      BR|        PLANALTO PAULISTA|                     2837671|                   -46.64|                    -23.62|                    SP|                    40690|[{\"name\": \"ROLINH...|67a9cd8ce2c51fc98...|           -46.64|            -23.62|America/Sao_Paulo|2019-01-17T23:25:...|94e31a4d37f49bda0...|          false|                NULL|              43.9|            IOS|\n",
            "|06823673386|4099e6f87d7910fd8...|      EDUARDO|            FORTALEZA|                      BR|                 MEIRELES|                     2972297|                   -38.50|                     -3.73|                    CE|                    60125|[{\"name\": \"GRANDE...|11c5c1260ce3c607b...|           -38.50|             -3.73|America/Fortaleza|2019-01-17T22:28:...|d928f06312a10ae20...|          false|                NULL|              35.9|            IOS|\n",
            "|79719037778|39e02a93ff21345e7...|       Amanda|       RIO DE JANEIRO|                      BR|        QUINTINO BOCAIUVA|                     2938122|                   -43.32|                    -22.89|                    RJ|                    21380|[{\"name\": \"Açaí\",...|f9f6289912cbaa898...|           -43.32|            -22.89|America/Sao_Paulo|2019-01-17T22:49:...|2c299d7071fe54264...|          false|                NULL|              46.0|        ANDROID|\n",
            "|16125774556|5e3f389b859a62e8f...|     NATHALIA|       RIO DE JANEIRO|                      BR|               COPACABANA|                     7257616|                   -43.19|                    -22.98|                    RJ|                    22071|[{\"name\": \"ASTORI...|44d45fc193cb3ee2c...|           -43.19|            -22.98|America/Sao_Paulo|2019-01-17T22:46:...|e2362901f3b1c5132...|          false|                NULL|              40.7|            IOS|\n",
            "|07028523553|e6ea86254ff382d9b...|     FERNANDO|            SAO PAULO|                      BR|          CERQUEIRA CESAR|                     8683506|                   -46.66|                    -23.55|                    SP|                    14140|[{\"name\": \"Stella...|906fe91faa1af7309...|           -46.66|            -23.55|America/Sao_Paulo|2019-01-17T02:21:...|66541276a83922b8c...|          false|                NULL|              50.0|            IOS|\n",
            "|78189390112|663a434e1afd90f9a...|         Joao|       RIO DE JANEIRO|                      BR|        ENGENHO DE DENTRO|                     2792886|                   -43.30|                    -22.90|                    RJ|                    20745|[{\"name\": \"churra...|8e7956740f89a6808...|           -43.30|            -22.90|America/Sao_Paulo|2019-01-17T15:27:...|41cee669d9b53afe6...|          false|                NULL|              57.0|        ANDROID|\n",
            "|02538397331|f663225b3cf5da6e2...|      CAMILLA|       RIO DE JANEIRO|                      BR|                   TIJUCA|                     8717058|                   -43.23|                    -22.92|                    RJ|                    20540|[{\"name\": \"MAKIMO...|ff6aed37f41070c3c...|           -43.23|            -22.92|America/Sao_Paulo|2019-01-17T17:52:...|695e53d5bed55a0f8...|          false|                NULL|              64.3|            IOS|\n",
            "|98384788123|8f2ecc4d04bddcdaa...|    ALEXANDRE|       RIO DE JANEIRO|                      BR|                   GRAJAU|                     7080251|                   -43.26|                    -22.92|                    RJ|                    20540|[{\"name\": \"PICANH...|7fbdf0ede153bd583...|           -43.26|            -22.92|America/Sao_Paulo|2019-01-17T20:04:...|32fa298c14533595c...|          false|                NULL|             119.5|        ANDROID|\n",
            "|33643118239|30c20ad7ee725d4c4...|             |           VILA VELHA|                      BR|       PRAIA DE ITAPARICA|                     5056921|                   -40.31|                    -20.38|                    ES|                    29102|[{\"name\": \"152 - ...|dd58c088d4f842f1e...|           -40.31|            -20.38|America/Sao_Paulo|2019-01-17T21:55:...|614b3402d53a3acc8...|          false|                NULL|              42.0|        DESKTOP|\n",
            "|09647899871|40ce350179593a1d3...|         Luis|       RIO DE JANEIRO|                      BR|                 BOTAFOGO|                     3068888|                   -43.19|                    -22.96|                    RJ|                    22281|[{\"name\": \"New Yo...|405ace8ba67d9b469...|           -43.19|            -22.96|America/Sao_Paulo|2019-01-17T16:18:...|36f3728c1c2a380c3...|          false|                NULL|             234.5|            IOS|\n",
            "|89507423236|b80ba39069395dc7d...|        THAIS|       RIO DE JANEIRO|                      BR|              JACAREPAGUA|                     8743043|                   -43.39|                    -22.97|                    RJ|                    22775|[{\"name\": \"Cervej...|67acf136379a68044...|           -43.39|            -22.97|America/Sao_Paulo|2019-01-17T01:07:...|7a0c1609a0296501e...|          false|                NULL|              48.0|            IOS|\n",
            "|67247886051|2bffec66ffdec9f35...|         JOAO|  SAO JOSE DOS CAMPOS|                      BR|                VILA NAIR|                     8417638|                   -45.89|                    -23.21|                    SP|                    12231|[{\"name\": \"GRANDE...|8401aac6b195d0eb4...|           -45.89|            -23.21|America/Sao_Paulo|2019-01-17T01:59:...|4fce1289cb8961841...|          false|                NULL|              58.8|            IOS|\n",
            "|11935095936|778244baf8f10ee28...|     LEONARDO|            SAO PAULO|                      BR|        BROOKLIN PAULISTA|                     5060006|                   -46.68|                    -23.61|                    SP|                    45609|[{\"name\": \"Execut...|803a92aa3844d362f...|           -46.68|            -23.61|America/Sao_Paulo|2019-01-17T13:39:...|8923224f510886208...|          false|                NULL|              20.0|        DESKTOP|\n",
            "+-----------+--------------------+-------------+---------------------+------------------------+-------------------------+----------------------------+-------------------------+--------------------------+----------------------+-------------------------+--------------------+--------------------+-----------------+------------------+-----------------+--------------------+--------------------+---------------+--------------------+------------------+---------------+\n",
            "only showing top 20 rows\n",
            "\n"
          ]
        }
      ],
      "source": [
        "df_orders.show()"
      ]
    },
    {
      "cell_type": "markdown",
      "metadata": {
        "id": "DEeTlVWN8w7L"
      },
      "source": [
        "A coluna items do df_orders consiste em uma lista de dicionários, ou seja, cada pedido pode conter vários itens produtos. Para analisar item por item de forma estruturada, faremos um split dessa coluna:"
      ]
    },
    {
      "cell_type": "code",
      "execution_count": 24,
      "metadata": {
        "id": "2c3U1c4p9Cwa",
        "colab": {
          "base_uri": "https://localhost:8080/",
          "height": 0
        },
        "outputId": "6c1e4ab1-652d-4ff1-c59f-07b4a68718e9"
      },
      "outputs": [
        {
          "output_type": "execute_result",
          "data": {
            "text/plain": [
              "'\\ndf_orders_raw = spark.read.json(order_path)\\n\\n# Define the schema for the items in the \\'items\\' column\\nitems_schema = ArrayType(StructType([\\n    StructField(\"name\", StringType(), True),\\n    StructField(\"id\", StringType(), True),\\n    StructField(\"price\", DoubleType(), True),\\n    StructField(\"quantity\", IntegerType(), True)\\n]))\\n\\n# Parse the JSON string in the \\'items\\' column and cast it to the defined schema\\ndf_orders_parsed = df_orders_raw.withColumn(\"items_parsed\", from_json(col(\"items\"), items_schema))\\n\\n# Explode the parsed \\'items\\' column\\ndf_orders_exploded = df_orders_parsed.withColumn(\"item\", explode(col(\"items_parsed\")))\\n\\n# Select and rename the columns\\ndf_orders = df_orders_exploded.select(\\n    \"order_id\",\\n    \"customer_id\",\\n    \"merchant_id\",\\n    col(\"order_created_at\").alias(\"created_at\"), # Renamed order_created_at to created_at based on the original select\\n    # Assuming \\'status\\' is intended to be selected, but it\\'s not in the raw dataframe.\\n    # I\\'ll keep the original select\\'s columns for now and remove status.\\n    col(\"item.id\").alias(\"item_id\"),\\n    col(\"item.name\").alias(\"item_name\"),\\n    col(\"item.price\").alias(\"item_price\"),\\n    col(\"item.quantity\").alias(\"item_quantity\"),\\n    col(\"order_total_amount\")\\n)\\n\\ndf_orders.show()\\n'"
            ],
            "application/vnd.google.colaboratory.intrinsic+json": {
              "type": "string"
            }
          },
          "metadata": {},
          "execution_count": 24
        }
      ],
      "source": [
        "\"\"\"\n",
        "df_orders_raw = spark.read.json(order_path)\n",
        "\n",
        "# Define the schema for the items in the 'items' column\n",
        "items_schema = ArrayType(StructType([\n",
        "    StructField(\"name\", StringType(), True),\n",
        "    StructField(\"id\", StringType(), True),\n",
        "    StructField(\"price\", DoubleType(), True),\n",
        "    StructField(\"quantity\", IntegerType(), True)\n",
        "]))\n",
        "\n",
        "# Parse the JSON string in the 'items' column and cast it to the defined schema\n",
        "df_orders_parsed = df_orders_raw.withColumn(\"items_parsed\", from_json(col(\"items\"), items_schema))\n",
        "\n",
        "# Explode the parsed 'items' column\n",
        "df_orders_exploded = df_orders_parsed.withColumn(\"item\", explode(col(\"items_parsed\")))\n",
        "\n",
        "# Select and rename the columns\n",
        "df_orders = df_orders_exploded.select(\n",
        "    \"order_id\",\n",
        "    \"customer_id\",\n",
        "    \"merchant_id\",\n",
        "    col(\"order_created_at\").alias(\"created_at\"), # Renamed order_created_at to created_at based on the original select\n",
        "    # Assuming 'status' is intended to be selected, but it's not in the raw dataframe.\n",
        "    # I'll keep the original select's columns for now and remove status.\n",
        "    col(\"item.id\").alias(\"item_id\"),\n",
        "    col(\"item.name\").alias(\"item_name\"),\n",
        "    col(\"item.price\").alias(\"item_price\"),\n",
        "    col(\"item.quantity\").alias(\"item_quantity\"),\n",
        "    col(\"order_total_amount\")\n",
        ")\n",
        "\n",
        "df_orders.show()\n",
        "\"\"\""
      ]
    },
    {
      "cell_type": "markdown",
      "metadata": {
        "id": "yZ7KMcb89uMU"
      },
      "source": [
        "Base: **Usuários**"
      ]
    },
    {
      "cell_type": "code",
      "execution_count": 25,
      "metadata": {
        "id": "Ol_J1C1I5GoZ",
        "colab": {
          "base_uri": "https://localhost:8080/"
        },
        "outputId": "3d8f3751-3921-48ee-dfec-5fe427777c18"
      },
      "outputs": [
        {
          "output_type": "stream",
          "name": "stdout",
          "text": [
            "+--------------------+--------+--------------------+------+-------------+-------------------+---------------------+\n",
            "|         customer_id|language|          created_at|active|customer_name|customer_phone_area|customer_phone_number|\n",
            "+--------------------+--------+--------------------+------+-------------+-------------------+---------------------+\n",
            "|e8cc60860e09c0bb1...|   pt-br|2018-04-05 14:49:...|  true|         NUNO|                 46|            816135924|\n",
            "|a2834a38a9876cf74...|   pt-br|2018-01-14 21:40:...|  true|     ADRIELLY|                 59|            231330577|\n",
            "|41e1051728eba1334...|   pt-br|2018-01-07 03:47:...|  true|        PAULA|                 62|            347597883|\n",
            "|8e7c1dcb64edf95c9...|   pt-br|2018-01-10 22:17:...|  true|       HELTON|                 13|            719366842|\n",
            "|7823d4cf4150c5dae...|   pt-br|2018-04-06 00:16:...|  true|       WENDER|                 76|            543232158|\n",
            "|77e6a36569f6c8f35...|   pt-br|2018-01-27 20:00:...|  true|     MICHELLE|                 90|            806008944|\n",
            "|0ce03c2b567f34f42...|   pt-br|2018-01-04 14:12:...|  true|       MARLOS|                 18|            724199206|\n",
            "|7c2c4d1fe3ce74358...|   pt-br|2018-03-18 20:57:...|  true|      REBECCA|                 32|            454530554|\n",
            "|d5de3aa126ae18fd9...|   pt-br|2018-01-08 22:19:...|  true|        KELLY|                 72|             47158438|\n",
            "|fc3b69d0454f1ec8c...|   pt-br|2018-01-04 02:01:...|  true|          ANA|                 91|            533597575|\n",
            "|b71205e41a0f9e301...|   pt-br|2018-02-24 23:07:...|  true|       MARINA|                 88|            789252504|\n",
            "|23f835d397e34ed9d...|   pt-br|2018-01-14 17:32:...|  true|        JÚLIA|                 92|            560146481|\n",
            "|ad41629c717d95537...|   pt-br|2018-01-16 12:05:...|  true|    ROSANGELA|                  0|            949459488|\n",
            "|5fa381ece0e25818a...|   pt-br|2018-01-06 20:38:...|  true|       DYANNA|                 17|            570287338|\n",
            "|5a2ad15e9ddf745ad...|   pt-br|2018-04-06 02:56:...|  true|       SAMUEL|                 56|            746582509|\n",
            "|435346c38095dffef...|   pt-br|2018-04-06 04:25:...|  true|        RICKY|                 85|            987206495|\n",
            "|66d251b1c57e13cf8...|   pt-br|2018-01-09 15:04:...|  true|      BARBARA|                  8|            712823265|\n",
            "|61b2a6fdc7e4c15b4...|   pt-br|2018-01-20 23:45:...|  true|     GABRIELA|                  8|            481169335|\n",
            "|e3dfeaffdc3bb0df7...|   pt-br|2018-01-07 22:53:...|  true|      ISABELA|                 56|            817771793|\n",
            "|d573f7d5037b10be5...|   pt-br|2018-02-14 02:04:...|  true|         EDER|                 95|            330856628|\n",
            "+--------------------+--------+--------------------+------+-------------+-------------------+---------------------+\n",
            "only showing top 20 rows\n",
            "\n"
          ]
        }
      ],
      "source": [
        "df_customers.show()"
      ]
    },
    {
      "cell_type": "markdown",
      "metadata": {
        "id": "SCOxW3Aj9zZX"
      },
      "source": [
        "Base: **Merchants**"
      ]
    },
    {
      "cell_type": "code",
      "execution_count": 26,
      "metadata": {
        "id": "YMVA5IAO7x-R",
        "colab": {
          "base_uri": "https://localhost:8080/"
        },
        "outputId": "c974ddc9-efa4-437a-db5a-ee40bb60ba7d"
      },
      "outputs": [
        {
          "output_type": "stream",
          "name": "stdout",
          "text": [
            "+--------------------+--------------------+-------+-----------+--------------+------------+-------------+-------------------+-----------------+--------------+--------------+----------------+\n",
            "|                  id|          created_at|enabled|price_range|average_ticket|takeout_time|delivery_time|minimum_order_value|merchant_zip_code| merchant_city|merchant_state|merchant_country|\n",
            "+--------------------+--------------------+-------+-----------+--------------+------------+-------------+-------------------+-----------------+--------------+--------------+----------------+\n",
            "|d19ff6fca6288939b...|2017-01-23 12:52:...|  false|          3|          60.0|           0|           50|               30.0|            14025|RIBEIRAO PRETO|            SP|              BR|\n",
            "|631df0985fdbbaf27...|2017-01-20 13:14:...|   true|          3|          60.0|           0|            0|               30.0|            50180|     SAO PAULO|            SP|              BR|\n",
            "|135c5c4ae4c1ec1fd...|2017-01-23 12:46:...|   true|          5|         100.0|           0|           45|               10.0|            23090|RIO DE JANEIRO|            RJ|              BR|\n",
            "|d26f84c470451f752...|2017-01-20 13:15:...|   true|          3|          80.0|           0|            0|               18.9|            40255|      SALVADOR|            BA|              BR|\n",
            "|97b9884600ea71923...|2017-01-20 13:14:...|   true|          3|          60.0|           0|            0|               25.0|            64600|       BARUERI|            SP|              BR|\n",
            "|1ec1343b97cae3e3f...|2017-01-23 12:36:...|  false|          1|          30.0|           0|           60|               10.0|            18030|      SOROCABA|            SP|              BR|\n",
            "|a296322ddb834e65a...|2017-01-23 12:40:...|  false|          1|          30.0|           0|           70|               11.0|            13208|       JUNDIAI|            SP|              BR|\n",
            "|283f457637aa69ef6...|2017-01-20 13:14:...|   true|          4|          80.0|           0|           30|               24.0|            34020|     SAO PAULO|            SP|              BR|\n",
            "|d171f94340260767e...|2017-01-20 13:13:...|  false|          5|          81.0|          30|           15|               10.0|            45380|     SAO PAULO|            SP|              BR|\n",
            "|1b8219cc06c6b99de...|2017-01-20 13:15:...|  false|          1|          30.0|           0|           30|                0.0|            60541|     FORTALEZA|            CE|              BR|\n",
            "|5669c0c985222d4d1...|2017-01-20 13:13:...|  false|          1|          30.0|           0|           40|                5.0|            20051|RIO DE JANEIRO|            RJ|              BR|\n",
            "|444151c8dd4b0ad47...|2017-01-20 13:14:...|  false|          2|          40.0|           0|           45|               15.0|            45630|     SAO PAULO|            SP|              BR|\n",
            "|d52d914faa6480355...|2017-01-20 13:14:...|   true|          3|          80.0|           0|            0|               40.0|            91740|  PORTO ALEGRE|            RS|              BR|\n",
            "|c2bebb86225520d00...|2017-01-23 12:51:...|  false|          1|          30.0|           0|           80|               30.0|            56650|     SAO PAULO|            SP|              BR|\n",
            "|746e72650d1859f26...|2017-01-20 13:14:...|   true|          3|          60.0|           0|           60|                0.0|            41515|      SALVADOR|            BA|              BR|\n",
            "|4bd1ed455c42b1fad...|2017-01-23 12:38:...|  false|          3|          60.0|           0|           50|               10.0|            50830|     SAO PAULO|            SP|              BR|\n",
            "|0544baaf612a20135...|2017-01-20 13:14:...|  false|          3|          60.0|           0|           50|               23.0|            88036| FLORIANOPOLIS|            SC|              BR|\n",
            "|a046f708db5954453...|2017-01-23 12:50:...|  false|          1|          30.0|           0|           50|                0.0|            54220|     SAO PAULO|            SP|              BR|\n",
            "|fa7fabcfaca96f78a...|2017-01-20 13:15:...|   true|          4|          60.0|           0|            0|               33.0|            40310|      SALVADOR|            BA|              BR|\n",
            "|f5e9fc05e93f762fe...|2017-01-20 13:15:...|  false|          2|          40.0|           0|           35|                0.0|            63102|   CARAPICUIBA|            SP|              BR|\n",
            "+--------------------+--------------------+-------+-----------+--------------+------------+-------------+-------------------+-----------------+--------------+--------------+----------------+\n",
            "only showing top 20 rows\n",
            "\n"
          ]
        }
      ],
      "source": [
        "df_merchants.show()"
      ]
    },
    {
      "cell_type": "markdown",
      "metadata": {
        "id": "uoLsUtp793f2"
      },
      "source": [
        "Base: **Teste A/B**"
      ]
    },
    {
      "cell_type": "code",
      "execution_count": 27,
      "metadata": {
        "id": "-4E4szRpNpj_",
        "colab": {
          "base_uri": "https://localhost:8080/"
        },
        "outputId": "2010ff3c-deb2-4325-ef0a-406eaec32ae0"
      },
      "outputs": [
        {
          "output_type": "stream",
          "name": "stdout",
          "text": [
            "+--------------------+---------+\n",
            "|         customer_id|is_target|\n",
            "+--------------------+---------+\n",
            "|755e1fa18f25caec5...|   target|\n",
            "|b821aa8372b8e5b82...|  control|\n",
            "|d425d6ee4c9d4e211...|  control|\n",
            "|6a7089eea0a5dc294...|   target|\n",
            "|dad6b7e222bab31c0...|  control|\n",
            "|82905a7d1fe78f80c...|   target|\n",
            "|2c793590086a05d39...|   target|\n",
            "|2c2c1ec8e79d1b98e...|   target|\n",
            "|5994c3c2c48edd8a7...|   target|\n",
            "|657d1330fd2b28abd...|  control|\n",
            "|4ab5c66a5fbc0ccb3...|   target|\n",
            "|1b669bd4b720ea0a4...|  control|\n",
            "|c58d1b6ed9e7bb94a...|   target|\n",
            "|5841e1fbd518d7a63...|   target|\n",
            "|df4a3b2f7c0e259ad...|  control|\n",
            "|d7974cdc3736cea24...|   target|\n",
            "|f8dcc804aa970d381...|  control|\n",
            "|fdf3cbc1ae5f2441c...|   target|\n",
            "|e3c10f0f467527d2a...|  control|\n",
            "|2c662e08a33f3b0c7...|   target|\n",
            "+--------------------+---------+\n",
            "only showing top 20 rows\n",
            "\n"
          ]
        }
      ],
      "source": [
        "df_test_ab.show()"
      ]
    },
    {
      "cell_type": "markdown",
      "metadata": {
        "id": "quVGqwMYHope"
      },
      "source": [
        "###Análise de Impacto da Campanha"
      ]
    },
    {
      "cell_type": "code",
      "execution_count": 28,
      "metadata": {
        "colab": {
          "base_uri": "https://localhost:8080/"
        },
        "id": "Jd0PNbWBrc-a",
        "outputId": "e7870ebc-9f5f-4500-d359-736a12c356eb"
      },
      "outputs": [
        {
          "output_type": "execute_result",
          "data": {
            "text/plain": [
              "3662321"
            ]
          },
          "metadata": {},
          "execution_count": 28
        }
      ],
      "source": [
        "# Juntando a base de pedidos com a de marcações da campanha\n",
        "df_orders_ab = df_orders.join(df_test_ab, on=\"customer_id\", how=\"inner\")\n",
        "\n",
        "# Cacheando porque será usado várias vezes\n",
        "df_orders_ab.cache()\n",
        "df_orders_ab.count()  # Força a execução para materializar o cache"
      ]
    },
    {
      "cell_type": "markdown",
      "metadata": {
        "id": "UUlhf6S25jgZ"
      },
      "source": [
        "Indicadores para mensurar sucesso:\n",
        "\n",
        "**Taxa de conversão:** % de usuários de cada grupo que fizeram pelo menos um pedido no período.\n",
        "\n",
        "**Ticket médio:** valor médio gasto por pedido.\n",
        "\n",
        "**Pedidos por usuário:** número médio de pedidos por usuário.\n",
        "\n",
        "**Receita total:** soma dos valores de todos os pedidos por grupo.\n",
        "\n",
        "Esses indicadores mostram:\n",
        "\n",
        "*   Se o cupom gerou mais pedidos (conversão);\n",
        "*   Se aumentou o gasto médio ou só incentivou compras pequenas;\n",
        "*   Se realmente trouxe mais receita;"
      ]
    },
    {
      "cell_type": "code",
      "execution_count": 29,
      "metadata": {
        "colab": {
          "base_uri": "https://localhost:8080/"
        },
        "id": "tQ2h-xpdHsh9",
        "outputId": "b2f13cfa-931d-41f8-ac75-b1b96ee80f77"
      },
      "outputs": [
        {
          "output_type": "stream",
          "name": "stdout",
          "text": [
            "+---------+-------+--------+-------------------+--------------+-------------------+-----------------+\n",
            "|is_target|n_users|n_buyers|conversion_rate_fmt|avg_ticket_fmt|orders_per_user_fmt|total_revenue_fmt|\n",
            "+---------+-------+--------+-------------------+--------------+-------------------+-----------------+\n",
            "|control  |360542 |360528  |99.9961%           |R$ 47.90      |4.2                |R$ 73,071,872.88 |\n",
            "|target   |445925 |445909  |99.9964%           |R$ 47.74      |4.8                |R$ 102,007,569.84|\n",
            "+---------+-------+--------+-------------------+--------------+-------------------+-----------------+\n",
            "\n"
          ]
        }
      ],
      "source": [
        "\n",
        "\n",
        "\n",
        "# Total de usuários em cada grupo\n",
        "n_users = df_test_ab.groupBy('is_target').agg(F.countDistinct('customer_id').alias('n_users'))\n",
        "\n",
        "# Usuários que fizeram ao menos um pedido (compradores)\n",
        "buyers = df_orders_ab.groupBy('is_target').agg(F.countDistinct(F.when(F.col(\"order_total_amount\") > 0, F.col(\"customer_id\"))).alias(\"n_buyers\"))\n",
        "\n",
        "# Ticket médio: média do valor dos pedidos\n",
        "avg_ticket = df_orders_ab.groupBy('is_target').agg(F.avg('order_total_amount').alias('avg_ticket'))\n",
        "\n",
        "# Total de pedidos por grupo\n",
        "total_orders = df_orders_ab.groupBy('is_target').agg(F.count('order_id').alias('total_orders'))\n",
        "\n",
        "# Receita total por grupo\n",
        "total_revenue = df_orders_ab.groupBy('is_target').agg(F.sum('order_total_amount').alias('total_revenue'))\n",
        "\n",
        "# Pedidos por usuário (média)\n",
        "orders_per_user = total_orders.join(n_users, on='is_target')\\\n",
        "                              .withColumn('orders_per_user', F.col('total_orders') / F.col('n_users'))\\\n",
        "                              .select('is_target', 'orders_per_user')\n",
        "\n",
        "# Taxa de conversão: % de usuários que fizeram pedido\n",
        "conversion = buyers.join(n_users, on='is_target')\\\n",
        "                   .withColumn('conversion_rate', F.col('n_buyers') / F.col('n_users'))\\\n",
        "                   .select('is_target', 'conversion_rate')\n",
        "\n",
        "# Consolidando em um único DataFrame\n",
        "results = n_users\\\n",
        "    .join(buyers, on='is_target')\\\n",
        "    .join(conversion, on='is_target')\\\n",
        "    .join(avg_ticket, on='is_target')\\\n",
        "    .join(orders_per_user, on='is_target')\\\n",
        "    .join(total_revenue, on='is_target')\n",
        "\n",
        "# Adicionar colunas formatadas ao DataFrame de resultados\n",
        "results_formatted = results\\\n",
        "    .withColumn(\n",
        "        \"n_users_fmt\",\n",
        "        F.round(F.col(\"n_users\"), 1)\n",
        "    )\\\n",
        "    .withColumn(\n",
        "        \"n_buyers_fmt\",\n",
        "        F.round(F.col(\"n_buyers\"), 1)\n",
        "    )\\\n",
        "    .withColumn(\n",
        "        \"conversion_rate_fmt\",\n",
        "        F.concat(F.round(F.col(\"conversion_rate\") * 100, 4), F.lit(\"%\"))\n",
        "    )\\\n",
        "    .withColumn(\n",
        "        \"avg_ticket_fmt\",\n",
        "        F.concat(F.lit(\"R$ \"), F.format_number(\"avg_ticket\", 2))\n",
        "    )\\\n",
        "    .withColumn(\n",
        "        \"orders_per_user_fmt\",\n",
        "        F.round(F.col(\"orders_per_user\"), 1)\n",
        "    )\\\n",
        "    .withColumn(\n",
        "        \"total_revenue_fmt\",\n",
        "        F.concat(F.lit(\"R$ \"), F.format_number(\"total_revenue\", 2))\n",
        "    )\n",
        "\n",
        "results_formatted.select(\n",
        "    \"is_target\",\n",
        "    \"n_users\",\n",
        "    \"n_buyers\",\n",
        "    \"conversion_rate_fmt\",\n",
        "    \"avg_ticket_fmt\",\n",
        "    \"orders_per_user_fmt\",\n",
        "    \"total_revenue_fmt\"\n",
        ").show(truncate=False)"
      ]
    },
    {
      "cell_type": "markdown",
      "metadata": {
        "id": "JWtD192W3ceC"
      },
      "source": [
        "**Taxa de conversão:** Está praticamente em 100% nos dois grupos (considerando a premissa de que um pedido válido possui valor maior que 0 reais). Isso sugere que todos os usuários do recorte analisado realizaram pelo menos um pedido. Em situações reais, normalmente há uma diferença aqui, o que pode indicar algum viés ou característica da amostra;\n",
        "\n",
        "**Ticket médio:** Muito semelhante entre os grupos, sem diferenças relevantes;\n",
        "\n",
        "**Pedidos por usuário:** Superior no grupo teste, sugerindo maior engajamento/recorrência (4,8 *versus* 4,2).\n",
        "\n",
        "**Receita total:** O grupo teste gerou receita significativamente maior."
      ]
    },
    {
      "cell_type": "markdown",
      "metadata": {
        "id": "L3Qa-exX4D2o"
      },
      "source": [
        "A campanha de cupons **teve impacto relevante em engajamento (número de pedidos) o que se traduziu em maior faturamento** ainda que o efeito no ticket médio pareça insignificante. O efeito principal parece ser aumento de frequência, mais do que atração de novos compradores (já que todos compraram pelo menos uma vez)."
      ]
    },
    {
      "cell_type": "markdown",
      "source": [
        "Vamos confirmar estatisticamente (através de testes adequados) se os insights e conclusões que obtivemos podem ser tomados como hipóteses válidas:"
      ],
      "metadata": {
        "id": "lq4-JXkCUzIl"
      }
    },
    {
      "cell_type": "code",
      "source": [
        "\n",
        "\n",
        "# Join dos dados\n",
        "df = df_orders_ab.join(df_customers.select(\"customer_id\", \"created_at\"), on=\"customer_id\", how=\"inner\")\n",
        "\n",
        "# Agregações por usuário\n",
        "user_stats = df.groupBy(\"customer_id\", \"is_target\").agg(\n",
        "    F.count(\"order_id\").alias(\"order_count\"),\n",
        "    F.sum(\"order_total_amount\").alias(\"total_spent\"),\n",
        "    F.avg(\"order_total_amount\").alias(\"avg_ticket\"),\n",
        "    F.min(\"order_created_at\").alias(\"first_order\"),\n",
        "    F.max(\"order_created_at\").alias(\"last_order\")\n",
        ")\n",
        "\n",
        "# Retenção\n",
        "user_stats = user_stats.withColumn(\"retained\", F.when(F.col(\"order_count\") > 1, 1).otherwise(0))\n",
        "\n",
        "# Converter para Pandas para testes e gráficos\n",
        "user_pd = user_stats.toPandas()\n",
        "control = user_pd[user_pd['is_target'] == 'control']\n",
        "target = user_pd[user_pd['is_target'] == 'target']\n",
        "\n",
        "# Testes estatísticos\n",
        "results = {\n",
        "    \"Ticket Médio\": ttest_ind(control['avg_ticket'], target['avg_ticket'], equal_var=False),\n",
        "    \"Total Gasto\": ttest_ind(control['total_spent'], target['total_spent'], equal_var=False),\n",
        "    \"Qtd. Pedidos\": ttest_ind(control['order_count'], target['order_count'], equal_var=False),\n",
        "}\n",
        "\n",
        "# Teste de proporção para retenção\n",
        "ret_table = pd.crosstab(user_pd['is_target'], user_pd['retained'])\n",
        "chi2, p_ret, _, _ = chi2_contingency(ret_table)\n",
        "\n",
        "results[\"Retenção (chi2)\"] = (chi2, p_ret)\n",
        "\n",
        "# Exibir resultados\n",
        "for key, value in results.items():\n",
        "    print(f\"{key}: estatística = {value[0]:.3f}, p-valor = {value[1]:.4f}\")\n",
        "\n",
        "# Gráficos\n",
        "plt.figure(figsize=(10, 6))\n",
        "plt.boxplot([control['avg_ticket'], target['avg_ticket']], labels=['Control', 'Target'])\n",
        "plt.title('Distribuição do Ticket Médio por Grupo')\n",
        "plt.ylabel('Ticket Médio (R$)')\n",
        "plt.grid(True)\n",
        "plt.show()\n",
        "\n",
        "plt.figure(figsize=(8, 5))\n",
        "retention_rates = ret_table[1] / ret_table.sum(axis=1)\n",
        "plt.bar(retention_rates.index, retention_rates.values)\n",
        "plt.title('Taxa de Retenção por Grupo')\n",
        "plt.ylabel('Retenção (>1 pedido)')\n",
        "plt.grid(axis='y')\n",
        "plt.show()\n"
      ],
      "metadata": {
        "colab": {
          "base_uri": "https://localhost:8080/",
          "height": 1000
        },
        "id": "ZwX53U5iMGBZ",
        "outputId": "319dc060-8da5-4956-d42a-00fe3fdf561f"
      },
      "execution_count": 30,
      "outputs": [
        {
          "output_type": "stream",
          "name": "stdout",
          "text": [
            "Ticket Médio: estatística = 0.804, p-valor = 0.4213\n",
            "Total Gasto: estatística = -24.319, p-valor = 0.0000\n",
            "Qtd. Pedidos: estatística = -44.253, p-valor = 0.0000\n",
            "Retenção (chi2): estatística = 2622.147, p-valor = 0.0000\n"
          ]
        },
        {
          "output_type": "stream",
          "name": "stderr",
          "text": [
            "/tmp/ipython-input-30-2944567794.py:40: MatplotlibDeprecationWarning: The 'labels' parameter of boxplot() has been renamed 'tick_labels' since Matplotlib 3.9; support for the old name will be dropped in 3.11.\n",
            "  plt.boxplot([control['avg_ticket'], target['avg_ticket']], labels=['Control', 'Target'])\n"
          ]
        },
        {
          "output_type": "display_data",
          "data": {
            "text/plain": [
              "<Figure size 1000x600 with 1 Axes>"
            ],
            "image/png": "[encoded data removed]"
          },
          "metadata": {}
        },
        {
          "output_type": "display_data",
          "data": {
            "text/plain": [
              "<Figure size 800x500 with 1 Axes>"
            ],
            "image/png": "[encoded data removed]"
          },
          "metadata": {}
        }
      ]
    },
    {
      "cell_type": "markdown",
      "source": [
        "Ticket médio: sem significância estatística (p-value > 0.05) portanto, o cupom não alterou o valor médio dos pedidos.\n",
        "\n",
        "Total gasto: com significância estatística (p-value < 0.05), usuários do grupo controle gastaram menos no total. O cupom gerou aumento no gasto total.\n",
        "\n",
        "Quantidade de Pedidos: com significância estatística (p-value < 0.05),usuários com cupom fizeram mais pedidos.\n",
        "\n",
        "Retenção: com significância estatística (p-value < 0.05),cupom aumentou significativamente a chance de o usuário fazer mais de 1 pedido."
      ],
      "metadata": {
        "id": "O6tVg8Q3VGZ-"
      }
    },
    {
      "cell_type": "markdown",
      "source": [
        "Portanto, **embora estatisticamente eficaz**, a campanha **não é viável financeiramente**, a menos que o cupom seja mais barato ou seja direcionado a segmentos com maior retorno."
      ],
      "metadata": {
        "id": "kBclxMqZV29i"
      }
    },
    {
      "cell_type": "code",
      "execution_count": null,
      "metadata": {
        "id": "Z2POY-v19pdD"
      },
      "outputs": [],
      "source": [
        "# Limpando os dataframes em cache para liberar memória\n",
        "spark.catalog.clearCache()"
      ]
    },
    {
      "cell_type": "markdown",
      "metadata": {
        "id": "Lf7owG4E6R5M"
      },
      "source": [
        "###Análise de Viabilidade Financeira"
      ]
    },
    {
      "cell_type": "markdown",
      "metadata": {
        "id": "3FmF2Qld-E3R"
      },
      "source": [
        "**Premissas:**\n",
        "\n",
        "Valor do cupom médio concedido por compra: R$ 10\n",
        "\n",
        "Margem líquida da operação sobre o valor dos pedidos: 15%\n",
        "\n",
        "O aumento de 0,6 pedidos por usuário do grupo teste (diferença entre 4,8 e 4,2) foi efeito da campanha"
      ]
    },
    {
      "cell_type": "code",
      "execution_count": null,
      "metadata": {
        "colab": {
          "base_uri": "https://localhost:8080/"
        },
        "id": "pAMNUOhz6UpN",
        "outputId": "d92a1032-deb2-43dd-f0d4-cf41eeed8b6c"
      },
      "outputs": [
        {
          "output_type": "stream",
          "name": "stdout",
          "text": [
            "+-------------------+--------------+-----------------+\n",
            "|Receita incremental|Custo campanha|Lucro incremental|\n",
            "+-------------------+--------------+-----------------+\n",
            "|      1.192940903E7|    2498844.46|       -709433.11|\n",
            "+-------------------+--------------+-----------------+\n",
            "\n"
          ]
        }
      ],
      "source": [
        "# Parâmetros\n",
        "valor_cupom = 10\n",
        "margem_liquida = 0.15\n",
        "\n",
        "# Limpa avg_ticket\n",
        "results_spark = results.withColumn(\n",
        "    \"avg_ticket\", F.regexp_replace(\"avg_ticket\", \"R\\$ \", \"\").cast(\"double\")\n",
        ")\n",
        "\n",
        "# Cria um DataFrame com valores de target e control\n",
        "joined = (\n",
        "    results_spark\n",
        "    .filter(F.col(\"is_target\").isin([\"target\", \"control\"]))\n",
        "    .select(\n",
        "        F.col(\"is_target\"),\n",
        "        F.col(\"orders_per_user\").alias(\"orders_per_user\"),\n",
        "        F.col(\"n_users\").alias(\"n_users\"),\n",
        "        F.col(\"avg_ticket\").alias(\"avg_ticket\"),\n",
        "    )\n",
        "    .groupBy()\n",
        "    .agg(\n",
        "        F.max(F.when(F.col(\"is_target\") == \"target\", F.col(\"orders_per_user\"))).alias(\"orders_per_user_target\"),\n",
        "        F.max(F.when(F.col(\"is_target\") == \"control\", F.col(\"orders_per_user\"))).alias(\"orders_per_user_control\"),\n",
        "        F.max(F.when(F.col(\"is_target\") == \"target\", F.col(\"n_users\"))).alias(\"n_users_target\"),\n",
        "        F.max(F.when(F.col(\"is_target\") == \"target\", F.col(\"avg_ticket\"))).alias(\"avg_ticket_target\"),\n",
        "    )\n",
        ")\n",
        "\n",
        "# Calcula os indicadores\n",
        "final_df = (\n",
        "    joined\n",
        "    .withColumn(\"pedidos_incr\", F.col(\"orders_per_user_target\") - F.col(\"orders_per_user_control\"))\n",
        "    .withColumn(\"total_pedidos_incr\", F.col(\"pedidos_incr\") * F.col(\"n_users_target\"))\n",
        "    .withColumn(\"receita_incremental\", F.col(\"total_pedidos_incr\") * F.col(\"avg_ticket_target\"))\n",
        "    .withColumn(\"custo_campanha\", F.col(\"total_pedidos_incr\") * F.lit(valor_cupom))\n",
        "    .withColumn(\"lucro_incremental\", (F.col(\"receita_incremental\") * F.lit(margem_liquida)) - F.col(\"custo_campanha\"))\n",
        ")\n",
        "\n",
        "# Resultados\n",
        "final_df.select(\n",
        "    F.round(\"receita_incremental\", 2).alias(\"Receita incremental\"),\n",
        "    F.round(\"custo_campanha\", 2).alias(\"Custo campanha\"),\n",
        "    F.round(\"lucro_incremental\", 2).alias(\"Lucro incremental\"),\n",
        ").show()\n"
      ]
    },
    {
      "cell_type": "markdown",
      "metadata": {
        "id": "IEJ70_d8-Tp2"
      },
      "source": [
        "A campanha, com as premissas adotadas (cupom de R$ 10 e margem de 15%), **não se pagou**: houve aumento de frequência de pedidos e receita, mas o custo dos cupons excedeu o lucro gerado, **gerando prejuízo incremental**.\n",
        "\n",
        "Se a margem operacional ou o valor do cupom fossem diferentes, o resultado poderia mudar.\n",
        "\n",
        "Esse é um alerta para calibrar o valor do incentivo em campanhas desse tipo, buscar maior eficiência, ou aumentar o foco em clientes de maior potencial."
      ]
    },
    {
      "cell_type": "markdown",
      "metadata": {
        "id": "7sLHOOc2-kS5"
      },
      "source": [
        "###Desenho de novo teste A/B"
      ]
    },
    {
      "cell_type": "markdown",
      "metadata": {
        "id": "CgAWZ85RAwkh"
      },
      "source": [
        "**Oportunidades de Melhoria**\n",
        "\n",
        "**Segmentação:** O cupom poderia ser oferecido para segmentos com maior potencial de crescimento (ex: clientes inativos, ou com menor frequência histórica).\n",
        "\n",
        "**Cupom gradativo:** Oferecer incentivos proporcionais ao valor do pedido, ou apenas para valores acima de um mínimo, evitando assim estratégias de \"substituição\" de compras maiores por pequenas compras por parte dos clientes.\n",
        "\n",
        "**Limitar uso:** Restringir os cupons a utilizações únicas e com prazos de expiração. Evitando abusos, gerando fidelização e maximizando o retorno.\n",
        "\n",
        "**Teste de diferentes valores de cupom:** Avaliar elasticidade ao valor do incentivo, buscando o ponto de maior retorno financeiro.\n",
        "\n",
        "**Mensuração de comportamento após a campanha:** Avaliar se o aumento de frequência se mantém após o fim da campanha, ou se é só temporário."
      ]
    },
    {
      "cell_type": "markdown",
      "metadata": {
        "id": "rguQ77hJBy28"
      },
      "source": [
        "Vamos então propor 3 cenários de teste para efetuarmos comparações. São eles:"
      ]
    },
    {
      "cell_type": "markdown",
      "metadata": {
        "id": "dWfgKtgrB6HO"
      },
      "source": [
        "**GRUPOS:**\n",
        "\n",
        "**Controle:** Sem cupom\n",
        "\n",
        "**Cenário 1:** Cupom fixo de R$ 5\n",
        "\n",
        "**Cenário 2:** Cupom fixo de R$ 10\n",
        "\n",
        "**Cenário 3:** Cupom de R$ 10 para pedidos acima de 50 reais"
      ]
    },
    {
      "cell_type": "markdown",
      "metadata": {
        "id": "VdEmdbpbCfH3"
      },
      "source": [
        "**CRITÉRIOS DE ANÁLISE:**\n",
        "\n",
        "*   Taxa de conversão, ticket médio, pedidos por usuário, receita total, margem e ROI da campanha;\n",
        "\n",
        "*   Acompanhamento por segmento de cliente (ex: frequência anterior, ticket anterior).\n",
        "\n",
        "\n",
        "\n",
        "\n",
        "\n"
      ]
    },
    {
      "cell_type": "markdown",
      "metadata": {
        "id": "IqaJKISWCutE"
      },
      "source": [
        "**HIPÓTESES:**\n",
        "\n",
        "1.   Qual valor de cupom gera maior ROI?\n",
        "2.   Um valor mínimo de compra alavanca mais receita/margem?\n",
        "3.   Segmentos de clientes respondem de forma diferente ao incentivo?"
      ]
    },
    {
      "cell_type": "code",
      "execution_count": null,
      "metadata": {
        "id": "Vo-IQ03oGrun",
        "colab": {
          "base_uri": "https://localhost:8080/"
        },
        "outputId": "59756cc6-974a-4bd5-fbac-1b9d7278ae1b"
      },
      "outputs": [
        {
          "output_type": "stream",
          "name": "stdout",
          "text": [
            "+---------+-----------+------------+-----------------+------------------+-----------+------------------+------------------+------------------+\n",
            "|is_target|total_users|total_orders|       avg_ticket|     total_revenue|cupom_total|   orders_per_user|  revenue_per_user|   receita_liquida|\n",
            "+---------+-----------+------------+-----------------+------------------+-----------+------------------+------------------+------------------+\n",
            "| controle|      83738|       96710|42.64014962257104|4123728.8699988453|          0|1.1549117485490459| 49.24560975899646|4123728.8699988453|\n",
            "|cenario_1|      14486|       15032|81.71330894092746|1228314.4600000216|      75160|1.0376915642689493| 84.79321137650294|1153154.4600000216|\n",
            "|cenario_2|      43024|       45735|47.67813009729395| 2180559.279999739|     457350| 1.063011342506508| 50.68239308292439| 1723209.279999739|\n",
            "|cenario_3|      25376|       25900|46.53990694980778|1205383.5900000215|     259000|1.0206494325346784|47.500929618538045| 946383.5900000215|\n",
            "+---------+-----------+------------+-----------------+------------------+-----------+------------------+------------------+------------------+\n",
            "\n"
          ]
        }
      ],
      "source": [
        "# 1. Amostragem aleatória de 5%\n",
        "df_sample = df_orders.sample(False, 0.05, seed=42).cache()\n",
        "\n",
        "# Calcula o restaurante favorito (maior número de pedidos) por cliente\n",
        "fav_rest = (\n",
        "    df_orders\n",
        "    .groupBy('customer_id', 'merchant_id')\n",
        "    .agg(F.count('order_id').alias('n_orders'))\n",
        ")\n",
        "w = Window.partitionBy('customer_id').orderBy(F.desc('n_orders'))\n",
        "fav_rest = (\n",
        "    fav_rest.withColumn('rn', F.row_number().over(w))\n",
        "    .filter(F.col('rn') == 1)\n",
        "    .select('customer_id', F.col('merchant_id').alias('fav_restaurant_id'))\n",
        ")\n",
        "\n",
        "df_ab = (\n",
        "    df_sample\n",
        "    .join(fav_rest, 'customer_id', 'left')\n",
        "    .join(df_customers.select('customer_id', 'active'), 'customer_id', 'inner')\n",
        "    .select(\n",
        "        df_sample['customer_id'],\n",
        "        df_sample['order_id'],\n",
        "        df_sample['order_total_amount'],\n",
        "        df_sample['merchant_id'],\n",
        "        fav_rest['fav_restaurant_id'],\n",
        "        df_customers['active']\n",
        "    )\n",
        ")\n",
        "\n",
        "\n",
        "# Adiciona coluna randômica e distribui grupos igualmente (~25% para cada)\n",
        "df_ab = df_ab.withColumn('rand', F.rand(seed=42))\n",
        "ntile_window = Window.orderBy('rand')\n",
        "df_ab = df_ab.withColumn('ab_group', F.ntile(4).over(ntile_window))\n",
        "\n",
        "# Define o grupo inicial\n",
        "df_ab = df_ab.withColumn(\n",
        "    'is_target',\n",
        "    F.when(F.col('ab_group') == 1, 'controle')\n",
        "     .when(F.col('ab_group') == 2, 'cenario_1')\n",
        "     .when(F.col('ab_group') == 3, 'cenario_2')\n",
        "     .otherwise('cenario_3')\n",
        ")\n",
        "\n",
        "# Reajusta regras para garantir elegibilidade\n",
        "df_ab = df_ab.withColumn(\n",
        "    'is_target',\n",
        "    F.when(\n",
        "        (F.col('is_target') == 'cenario_1') & (F.col('order_total_amount') <= 50), 'controle'\n",
        "    ).when(\n",
        "        (F.col('is_target') == 'cenario_2') & (F.col('active') != True), 'controle'\n",
        "    ).when(\n",
        "        (F.col('is_target') == 'cenario_3') & (F.col('merchant_id') != F.col('fav_restaurant_id')), 'controle'\n",
        "    ).otherwise(F.col('is_target'))\n",
        ")\n",
        "\n",
        "\n",
        "# Coluna para cupom_usado por grupo\n",
        "df_ab = df_ab.withColumn(\n",
        "    'cupom_usado',\n",
        "    F.when((F.col('is_target') == 'cenario_1') & (F.col('order_total_amount') > 50), 5)\n",
        "     .when((F.col('is_target') == 'cenario_2') & (F.col('active') == True), 10)\n",
        "     .when((F.col('is_target') == 'cenario_3') & (F.col('merchant_id') == F.col('fav_restaurant_id')), 10)\n",
        "     .otherwise(0)\n",
        ")\n",
        "\n",
        "# Cálculo dos principais indicadores\n",
        "results = (\n",
        "    df_ab.groupBy('is_target')\n",
        "    .agg(\n",
        "        F.countDistinct('customer_id').alias('total_users'),\n",
        "        F.count('order_id').alias('total_orders'),\n",
        "        F.avg('order_total_amount').alias('avg_ticket'),\n",
        "        F.sum('order_total_amount').alias('total_revenue'),\n",
        "        F.sum('cupom_usado').alias('cupom_total')\n",
        "    )\n",
        "    .withColumn('orders_per_user', F.col('total_orders') / F.col('total_users'))\n",
        "    .withColumn('revenue_per_user', F.col('total_revenue') / F.col('total_users'))\n",
        "    .withColumn('receita_liquida', F.col('total_revenue') - F.col('cupom_total'))\n",
        ")\n",
        "\n",
        "results.show()"
      ]
    },
    {
      "cell_type": "markdown",
      "source": [
        "**CONTROLE**\n",
        "\n",
        "Base: 83.738 usuários, maior grupo.\n",
        "\n",
        "Ticket médio: R$42,64 (menor entre todos).\n",
        "\n",
        "Orders per user: 1,15 (mais alto).\n",
        "\n",
        "Receita líquida = Receita total (não há cupom).\n",
        "\n",
        "Insights:\n",
        "O grupo controle tem a maior base e número absoluto de pedidos, mas o menor ticket médio.A frequência de pedidos por usuário é a mais alta, indicando que esse grupo tem um comportamento de consumo mais fiel/natural.\n",
        "\n"
      ],
      "metadata": {
        "id": "H5jRnvU8QUHr"
      }
    },
    {
      "cell_type": "markdown",
      "source": [
        "**CENÁRIO 1**\n",
        "\n",
        "Ticket médio: R$81,71 (mais do que o dobro do controle!).\n",
        "\n",
        "orders_per_user: 1,04 (um pouco menor que controle).\n",
        "\n",
        "cupom_total: R$75.160\n",
        "\n",
        "Receita líquida: R$1.153.154,46\n",
        "\n",
        "Insights:\n",
        "O cupom incentivou pedidos de maior valor, elevando bastante o ticket médio, mesmo com frequência de compra ligeiramente menor.O custo em cupom foi relativamente baixo dado o impacto no ticket médio.Este cenário é excelente para aumentar o valor dos pedidos, mas não necessariamente ativa mais clientes – o efeito é sobre o tamanho do pedido."
      ],
      "metadata": {
        "id": "NE2LRy6PQeGy"
      }
    },
    {
      "cell_type": "markdown",
      "source": [
        "**CENÁRIO 2**\n",
        "\n",
        "Ticket médio: R$47,68 (ligeiramente acima do controle).\n",
        "\n",
        "orders_per_user: 1,06\n",
        "\n",
        "cupom_total: R$457.350 (maior custo absoluto em cupons).\n",
        "\n",
        "Receita líquida: R$1.723.209,28\n",
        "\n",
        "Insights:\n",
        "Esse cenário ativou um grupo grande (43.024 usuários) e aumentou levemente o ticket médio.Entretanto, o custo da campanha foi o mais alto, o que reduz fortemente o resultado líquido.É bom para trazer clientes de volta, mas precisa ser calibrado, pois o custo pode suplantar o benefício se o ticket não crescer mais."
      ],
      "metadata": {
        "id": "MZJH1dWuQq1e"
      }
    },
    {
      "cell_type": "markdown",
      "source": [
        "**CENÁRIO 3**\n",
        "\n",
        "Ticket médio: R$46,54\n",
        "\n",
        "orders_per_user: 1,02\n",
        "\n",
        "cupom_total: R$259.000\n",
        "\n",
        "Receita líquida: R$946.383,59\n",
        "\n",
        "Insights:\n",
        "Aqui, o foco era aumentar frequência ou valor no restaurante favorito do cliente.O ticket ficou acima do controle, mas orders_per_user e receita líquida não destacaram tanto.O custo do cupom foi razoável, mas o ganho líquido foi o menor."
      ],
      "metadata": {
        "id": "0mlgWEtORVmM"
      }
    },
    {
      "cell_type": "markdown",
      "source": [
        "**PONDERAÇÕES E CONCLUSÕES**\n",
        "\n",
        "**Cenário 1** (cupom condicionado ao valor mínimo) foi o mais eficiente para aumentar ticket médio – vale para aumentar receita sem precisar ativar mais clientes.\n",
        "\n",
        "**Cenário 2** tem papel de reativar clientes, mas precisa de ajustes para não elevar demais o custo do cupom. Poderia ter regras mais restritivas (ex: apenas se ticket acima de certo valor).\n",
        "\n",
        "**Cenário 3** não gerou um diferencial relevante (neste experimento).\n",
        "\n",
        "**Controle** ainda é competitivo em frequência, mas perde para cenários com incentivo no valor do pedido.\n",
        "\n",
        "Se o objetivo é aumentar valor transacional:\n",
        "Invista no modelo de cupom vinculado a valor mínimo (cenário 1).\n",
        "\n",
        "Se o objetivo é reativar clientes:\n",
        "O cupom para inativos precisa de estratégia para evitar desperdício (talvez limitar a clientes com potencial de retorno mais alto).\n",
        "\n",
        "Se o objetivo for pura fidelização (restaurante favorito):\n",
        "Repensar o valor do cupom ou formato da campanha."
      ],
      "metadata": {
        "id": "QULLZyMaRqFW"
      }
    },
    {
      "cell_type": "markdown",
      "source": [
        "###Propostas de Segmentações p/ teste A/B original"
      ],
      "metadata": {
        "id": "YYYZ9cH6V2jz"
      }
    },
    {
      "cell_type": "markdown",
      "source": [
        "**SEGMENTAÇÕES PROPOSTAS:**\n",
        "\n",
        "**Cenário 1 (Alta frequência de compra):** Top 25% dos clientes por número de pedidos.\n",
        "\n",
        "**Cenário 2 (Inativos na região mais relevante):** Clientes sem pedidos nos últimos 30 dias, com último pedido em merchants de uma região específica (ex: SP).\n",
        "\n",
        "**Cenário 3 (Novos clientes):** Clientes com menos de 30 dias de cadastro.\n",
        "\n",
        "**Controle:** Os demais."
      ],
      "metadata": {
        "id": "VwChDzi6_Xtc"
      }
    },
    {
      "cell_type": "code",
      "source": [
        "# Amostragem aleatória de 5%\n",
        "df_orders_sample = df_orders.sample(False, 0.05, seed=42).cache()\n",
        "\n",
        "\n",
        "max_date_row = df_orders_sample.agg(F.max(\"order_created_at\")).collect()[0]\n",
        "max_date = max_date_row[0]\n",
        "\n",
        "# Alta frequência de compra (top 25%)\n",
        "freq_df = (\n",
        "    df_orders_sample.groupBy('customer_id')\n",
        "    .agg(F.count('order_id').alias('n_orders'))\n",
        ")\n",
        "window_freq = Window.orderBy(F.desc('n_orders'))\n",
        "freq_df = freq_df.withColumn('freq_rank', F.ntile(4).over(window_freq))\n",
        "top_freq_customers = (\n",
        "    freq_df.filter(F.col('freq_rank') == 1)\n",
        "    .select('customer_id')\n",
        "    .withColumn('segment', F.lit('alta_frequencia'))\n",
        ")\n",
        "\n",
        "# Inativos em SP (sem pedidos há 30 dias e último pedido em SP)\n",
        "df_orders_merchants = (\n",
        "    df_orders_sample.join(\n",
        "        df_merchants.select(\n",
        "            F.col('id').alias('merchant_id_join'),\n",
        "            F.col('merchant_state').alias('merchant_state_merchant')\n",
        "        ),\n",
        "        df_orders_sample['merchant_id'] == F.col('merchant_id_join'),\n",
        "        how='inner'\n",
        "    )\n",
        ")\n",
        "last_orders = (\n",
        "    df_orders_merchants.groupBy('customer_id')\n",
        "    .agg(\n",
        "        F.max('order_created_at').alias('last_order'),\n",
        "        F.first('merchant_state_merchant', ignorenulls=True).alias('last_state')\n",
        "    )\n",
        ")\n",
        "inativos = (\n",
        "    last_orders.filter(\n",
        "        (F.datediff(F.lit(max_date), F.col('last_order')) > 30) &\n",
        "        (F.col('last_state') == 'SP')\n",
        "    )\n",
        "    .select('customer_id')\n",
        "    .withColumn('segment', F.lit('inativo_sp'))\n",
        ")\n",
        "\n",
        "# Novos clientes (< 30D de cadastro)\n",
        "df_customers_dated = df_customers.withColumn(\"created_at_date\", F.to_date(\"created_at\"))\n",
        "max_customer_date_row = df_customers_dated.agg(F.max(\"created_at_date\")).collect()[0]\n",
        "max_customer_date = max_customer_date_row[0]\n",
        "\n",
        "novos = (\n",
        "    df_customers_dated.filter(F.datediff(F.lit(max_customer_date), F.col('created_at_date')) < 30)\n",
        "    .select('customer_id')\n",
        "    .withColumn('segment', F.lit('novo_cliente'))\n",
        ")\n",
        "\n",
        "\n",
        "# União das segmentações (alta frequência, inativos, novos)\n",
        "segments = [top_freq_customers, inativos, novos]\n",
        "df_segments = reduce(DataFrame.unionByName, segments)\n",
        "\n",
        "# Juntando os dataframes\n",
        "df_ab_segments = (\n",
        "    df_test_ab.join(df_segments, 'customer_id', how='left')\n",
        "    .fillna({'segment': 'controle'})\n",
        ")\n",
        "\n",
        "# Amostragem balanceada (~25% dos pedidos por segmento)\n",
        "df_orders_ab_segments = (\n",
        "    df_orders_sample.join(\n",
        "        df_ab_segments.select('customer_id', 'segment'),\n",
        "        'customer_id',\n",
        "        'inner'\n",
        "    )\n",
        ")\n",
        "window_balance = Window.partitionBy('segment').orderBy(F.rand())\n",
        "df_orders_ab_segments = df_orders_ab_segments.withColumn('row_num', F.row_number().over(window_balance))\n",
        "\n",
        "# Balanceamento para igualar a quantidade (pega o menor grupo)\n",
        "group_sizes = df_orders_ab_segments.groupBy('segment').agg(F.count('order_id').alias('n_orders')).collect()\n",
        "min_group_size = min([row['n_orders'] for row in group_sizes])\n",
        "df_orders_balanced = df_orders_ab_segments.filter(F.col('row_num') <= min_group_size).drop('row_num')"
      ],
      "metadata": {
        "id": "YMRWlrDSWAEJ"
      },
      "execution_count": null,
      "outputs": []
    },
    {
      "cell_type": "code",
      "source": [
        "# 6. Métricas de desempenho\n",
        "result = df_orders_balanced.groupBy('segment').agg(\n",
        "    F.countDistinct('customer_id').alias('total_users'),\n",
        "    F.count('order_id').alias('total_orders'),\n",
        "    F.avg('order_total_amount').alias('avg_ticket'),\n",
        "    F.sum('order_total_amount').alias('total_revenue'),\n",
        "    (F.count('order_id') / F.countDistinct('customer_id')).alias('orders_per_user'),\n",
        "    (F.sum('order_total_amount') / F.countDistinct('customer_id')).alias('revenue_per_user')\n",
        ")\n",
        "\n",
        "result.show()"
      ],
      "metadata": {
        "colab": {
          "base_uri": "https://localhost:8080/"
        },
        "id": "NuB3df6q03fK",
        "outputId": "ee261542-8ed1-4f3d-ed53-c9855a61231c"
      },
      "execution_count": null,
      "outputs": [
        {
          "output_type": "stream",
          "name": "stdout",
          "text": [
            "+---------------+-----------+------------+------------------+-----------------+------------------+------------------+\n",
            "|        segment|total_users|total_orders|        avg_ticket|    total_revenue|   orders_per_user|  revenue_per_user|\n",
            "+---------------+-----------+------------+------------------+-----------------+------------------+------------------+\n",
            "|   novo_cliente|      17712|       18863| 45.33730530668794|855197.5900000546|1.0649841915085818| 48.28351343722078|\n",
            "|alta_frequencia|      15872|       18863| 47.51866670201193| 896344.610000051| 1.188445060483871| 56.47332472278547|\n",
            "|     inativo_sp|      17872|       18863| 50.60370513704321| 954537.690000046| 1.055449865711728|53.409673791408125|\n",
            "|       controle|      18863|       18863|47.817896410966405|901988.9800000592|               1.0|47.817896410966405|\n",
            "+---------------+-----------+------------+------------------+-----------------+------------------+------------------+\n",
            "\n"
          ]
        }
      ]
    },
    {
      "cell_type": "markdown",
      "source": [
        "**Ticket Médio**\n",
        "\n",
        "Inativo_sp apresenta o maior ticket médio, acima tanto de alta frequência quanto do controle.\n",
        "\n",
        "Isso sugere que, mesmo inativos, clientes desse segmento gastam mais quando voltam a comprar. É um alvo interessante para campanhas de reativação.\n",
        "\n",
        "**Receita por Usuário**\n",
        "\n",
        "Inativo_sp lidera em receita por usuário, seguido por alta frequência, ambos acima do controle.\n",
        "\n",
        "Ou seja, recuperar inativos traz mais retorno, mesmo que o volume de pedidos por usuário seja igual.\n",
        "\n",
        "**Pedidos por Usuário**\n",
        "\n",
        "Todos os grupos têm praticamente 1 pedido por usuário (amostragem igualada pelo script). \"Alta frequência\" apresenta levemente acima (1,01), o que é esperado pelo perfil.\n",
        "\n",
        "**Receita Total**\n",
        "\n",
        "Inativo_sp entrega a maior receita total no mesmo volume de pedidos, reforçando a oportunidade desse grupo."
      ],
      "metadata": {
        "id": "NM9d_o8nntdq"
      }
    },
    {
      "cell_type": "markdown",
      "source": [
        "**OPORTUNIDADES E RECOMENDAÇÕES**\n",
        "\n",
        "**Reativação de Inativos**\n",
        "\n",
        "O segmento inativo_sp tem potencial de gerar mais receita por usuário. Vale a pena direcionar cupons ou campanhas personalizadas para este grupo, pois eles têm valor maior quando retornam.\n",
        "\n",
        "**Segmento de Alta Frequência**\n",
        "\n",
        "Apesar de serem bons clientes, o ticket médio e receita por usuário não se destacam muito do controle. Estratégias para este grupo podem ser focadas em aumentar o valor do pedido (cross-sell, combos, etc.) ao invés de apenas manter frequência.\n",
        "\n",
        "**Grupo Controle**\n",
        "\n",
        "Serve como boa base de comparação. O desempenho inferior em ticket médio e receita por usuário mostra que as segmentações agregam valor ao negócio."
      ],
      "metadata": {
        "id": "2uoA88Sgn-0m"
      }
    },
    {
      "cell_type": "markdown",
      "source": [
        "### Próximos Passos"
      ],
      "metadata": {
        "id": "YGNPgO6LouoZ"
      }
    },
    {
      "cell_type": "markdown",
      "source": [
        "\n",
        "\n",
        "**1.   Realizar um Novo Teste A/B Focado em Reativação de Clientes Inativos**\n",
        "\n",
        "Clientes inativos da região de São Paulo, quando reativados, geram o maior ticket médio e receita por usuário, superando inclusive o grupo de clientes de alta frequência. Ou seja, o potencial de retorno financeiro ao reengajar esse público é significativamente maior.Conduzir uma campanha de cupons exclusivos para clientes inativos SP (exemplo: 15 reais de desconto em pedidos acima de 50 reais).\n",
        "\n",
        "Mensurar o incremento de pedidos e receita nesse grupo versus o grupo controle.\n",
        "\n",
        "**2. Estratégias para Clientes de Alta Frequência**\n",
        "\n",
        "Apesar do engajamento, o ticket médio e a receita por usuário desse segmento não crescem acima do controle. Isso mostra que o incentivo deve ser para aumento do valor do pedido, não apenas para manter frequência.\n",
        "\n",
        "Testar incentivos como cupons que ativam acima de um valor-alvo (exemplo: 10% de desconto em compras acima de R$60).\n",
        "\n",
        "Testar benefícios não monetários, como entrega grátis para pedidos maiores, para avaliar impacto no ticket médio.\n",
        "\n",
        "**3. Refinamento do Grupo Controle**\n",
        "\n",
        "O grupo controle serve de referência para avaliar o impacto incremental das campanhas. Manter parte dos clientes sem incentivo é fundamental para mensuração correta.\n",
        "\n",
        "Manter um grupo controle consistente e robusto, sem oferta de cupons."
      ],
      "metadata": {
        "id": "6uK4Dac5ow-G"
      }
    }
  ],
  "metadata": {
    "colab": {
      "provenance": []
    },
    "kernelspec": {
      "display_name": "Python 3",
      "name": "python3"
    },
    "language_info": {
      "name": "python"
    }
  },
  "nbformat": 4,
  "nbformat_minor": 0
}